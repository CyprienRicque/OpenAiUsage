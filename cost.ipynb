{
 "cells": [
  {
   "cell_type": "code",
   "execution_count": 1,
   "metadata": {
    "ExecuteTime": {
     "end_time": "2023-06-13T02:59:42.702275Z",
     "start_time": "2023-06-13T02:59:38.354590Z"
    }
   },
   "outputs": [],
   "source": [
    "import logging\n",
    "from datetime import datetime, timedelta\n",
    "import os\n",
    "\n",
    "import pandas as pd\n",
    "import requests\n",
    "from dotenv import load_dotenv\n",
    "import altair as alt\n",
    "\n",
    "from matplotlib import pyplot as plt\n",
    "\n",
    "\n",
    "load_dotenv(\"./credentials.env\")\n",
    "\n",
    "today = datetime.now().date()\n",
    "\n",
    "this_month = (today.replace(day=1), today + timedelta(days=1))\n",
    "all_months = (today.replace(day=1, month=5), today + timedelta(days=1))\n",
    "\n",
    "API_KEY = os.getenv(\"OPENAI_API_KEY\")\n",
    "API_BASE_URL = \"https://api.openai.com/v1/organizations/\"\n",
    "\n",
    "\n",
    "def fetch_openapi_usage_statistics(start_date, end_date):\n",
    "    start_date_str = start_date.strftime(\"%Y-%m-%d\")\n",
    "    end_date_str = end_date.strftime(\"%Y-%m-%d\")\n",
    "    API_USAGE_URL = f\"https://api.openai.com/dashboard/billing/usage?end_date={end_date_str}&start_date={start_date_str}\"\n",
    "\n",
    "    headers = {\"Authorization\": f\"Bearer {API_KEY}\"}\n",
    "\n",
    "    response = requests.get(API_USAGE_URL, headers=headers)\n",
    "\n",
    "    if response.status_code == 200:\n",
    "        raw_usage_value = response.json()[\"total_usage\"]\n",
    "        total_usage_d = round(raw_usage_value / 100, 2)\n",
    "\n",
    "        # Flatten the data\n",
    "        data = []\n",
    "        for entry in response.json()['daily_costs']:\n",
    "            timestamp = entry['timestamp']\n",
    "            for item in entry['line_items']:\n",
    "                item['timestamp'] = timestamp\n",
    "                data.append(item)\n",
    "\n",
    "        # Convert to DataFrame\n",
    "        df = pd.DataFrame(data)\n",
    "        df['datetime'] = pd.to_datetime(df['timestamp'], unit='s')\n",
    "        df.cost = df.cost.astype(float) / 100\n",
    "        df.sort_values(by=['timestamp'], ascending=False, inplace=True)\n",
    "\n",
    "        return df, total_usage_d, response.json()\n",
    "    else:\n",
    "        logging.error(\n",
    "            f\"Error fetching OpenAPI usage statistics: {response.status_code} - {response.text}\"\n",
    "        )\n",
    "        return None, None\n",
    "\n",
    "df_total, total_usage_d, raw = fetch_openapi_usage_statistics(all_months[0], all_months[1])\n",
    "df_this_month, this_month_usage_d, raw = fetch_openapi_usage_statistics(this_month[0], this_month[1])\n",
    "\n"
   ]
  },
  {
   "cell_type": "code",
   "execution_count": 2,
   "metadata": {
    "ExecuteTime": {
     "end_time": "2023-06-13T02:59:42.733941Z",
     "start_time": "2023-06-13T02:59:42.705643Z"
    }
   },
   "outputs": [
    {
     "data": {
      "text/plain": "dict_keys(['object', 'daily_costs', 'total_usage'])"
     },
     "execution_count": 2,
     "metadata": {},
     "output_type": "execute_result"
    }
   ],
   "source": [
    "raw.keys()"
   ]
  },
  {
   "cell_type": "code",
   "execution_count": 5,
   "outputs": [
    {
     "data": {
      "text/plain": "4323.455040000001"
     },
     "execution_count": 5,
     "metadata": {},
     "output_type": "execute_result"
    }
   ],
   "source": [
    "raw['total_usage']"
   ],
   "metadata": {
    "collapsed": false,
    "ExecuteTime": {
     "end_time": "2023-06-13T03:06:44.838574Z",
     "start_time": "2023-06-13T03:06:44.835843Z"
    }
   }
  }
 ],
 "metadata": {
  "kernelspec": {
   "display_name": "conda_base",
   "language": "python",
   "name": "conda_base"
  },
  "language_info": {
   "codemirror_mode": {
    "name": "ipython",
    "version": 3
   },
   "file_extension": ".py",
   "mimetype": "text/x-python",
   "name": "python",
   "nbconvert_exporter": "python",
   "pygments_lexer": "ipython3",
   "version": "3.10.10"
  }
 },
 "nbformat": 4,
 "nbformat_minor": 1
}
